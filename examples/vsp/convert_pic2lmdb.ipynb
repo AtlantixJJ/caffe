{
 "cells": [
  {
   "cell_type": "code",
   "execution_count": null,
   "metadata": {
    "collapsed": true
   },
   "outputs": [],
   "source": []
  },
  {
   "cell_type": "code",
   "execution_count": 1,
   "metadata": {
    "collapsed": true
   },
   "outputs": [],
   "source": [
    "## import \n",
    "import os\n",
    "import lmdb\n",
    "import caffe\n",
    "import numpy as np\n",
    "from PIL import Image\n",
    "# import matplotlib.pyplot as plt\n",
    "from matplotlib import pyplot\n",
    "import torchvision.transforms as transforms\n",
    "import random\n",
    "import matplotlib.pyplot as plt\n",
    "import cv2"
   ]
  },
  {
   "cell_type": "code",
   "execution_count": 2,
   "metadata": {
    "collapsed": false
   },
   "outputs": [
    {
     "data": {
      "text/plain": [
       "'/home/wyw/workspace/SC-2019/intel_firstTest/new-3-3/caffe/examples/vsp'"
      ]
     },
     "execution_count": 2,
     "metadata": {},
     "output_type": "execute_result"
    }
   ],
   "source": [
    "os.getcwd()"
   ]
  },
  {
   "cell_type": "code",
   "execution_count": 3,
   "metadata": {
    "collapsed": true
   },
   "outputs": [],
   "source": [
    "## LMDB采用键值对<key-value>的存储格式，key就是字符形式的ID，value是Caffe中Datum类的序列化形式。"
   ]
  },
  {
   "cell_type": "code",
   "execution_count": 6,
   "metadata": {
    "collapsed": true
   },
   "outputs": [],
   "source": [
    "test = Image.open(\"/media/wywdisk/VSPdata/data/layer2_1-90_rightPML/vz_split/1.png\").convert(\"RGB\").resize( (256,256), Image.BICUBIC )\n",
    "\n",
    "test = transforms.ToTensor()(test)\n",
    "# test = transforms.Normalize((test[0].mean(), test[1].mean(), test[2].mean()), (test[0].std(), test[1].std(), test[2].std()))(test)\n",
    "# test = transforms.Normalize((0.5, 0.5, 0.5), (0.5,0.5,0.5))(test)\n",
    "test = transforms.Normalize((0.5, 0.5, 0.5), (0.5,0.5,0.5))(test)"
   ]
  },
  {
   "cell_type": "code",
   "execution_count": 7,
   "metadata": {
    "collapsed": false
   },
   "outputs": [
    {
     "data": {
      "text/plain": [
       "torch.Size([3, 256, 256])"
      ]
     },
     "execution_count": 7,
     "metadata": {},
     "output_type": "execute_result"
    }
   ],
   "source": [
    "test.size()"
   ]
  },
  {
   "cell_type": "code",
   "execution_count": 8,
   "metadata": {
    "collapsed": false
   },
   "outputs": [
    {
     "name": "stdout",
     "output_type": "stream",
     "text": [
      "tensor(-0.6897) tensor(0.2551) tensor(1.) tensor(-0.8431)\n",
      "tensor(0.0917) tensor(0.2414) tensor(1.) tensor(-1.)\n",
      "tensor(0.0572) tensor(0.1508) tensor(0.1843) tensor(-0.8275)\n",
      "tensor(-0.1803) tensor(0.4227) tensor(1.) tensor(-1.)\n"
     ]
    }
   ],
   "source": [
    "print( test[0].mean(), test[0].std(),test[0].max(), test[0].min() )\n",
    "print( test[1].mean(), test[1].std(),test[1].max(), test[1].min() )\n",
    "print( test[2].mean(), test[2].std(),test[2].max(), test[2].min() )\n",
    "print( test.mean(), test.std(),test.max(), test.min() )"
   ]
  },
  {
   "cell_type": "code",
   "execution_count": 9,
   "metadata": {
    "collapsed": true
   },
   "outputs": [],
   "source": [
    "# img = cv2.imread(\"/media/wywdisk/VSPdata/data/layer2_1-90_rightPML/vz_split/1.png\")\n",
    "# # cv2.namedWindow(\"Image\")\n",
    "# cv2.imshow(\"Image\",img)"
   ]
  },
  {
   "cell_type": "code",
   "execution_count": 10,
   "metadata": {
    "collapsed": false
   },
   "outputs": [
    {
     "name": "stdout",
     "output_type": "stream",
     "text": [
      "test :  torch.Size([3, 256, 256]) \t [tensor(-1.), tensor(1.)]\n"
     ]
    },
    {
     "data": {
      "image/png": "[encoded data removed]",
      "text/plain": [
       "<Figure size 432x288 with 1 Axes>"
      ]
     },
     "metadata": {
      "needs_background": "light"
     },
     "output_type": "display_data"
    }
   ],
   "source": [
    "obj = 'test'\n",
    "print(obj, \": \", eval(obj).shape, \"\\t\", [eval(obj).min(), eval(obj).max()] )\n",
    "im = plt.imshow(eval(obj)[0,:,:], extent=[0, 512, 512,0])\n",
    "#plt.colorbar(im)\n",
    "# plt.title(\"B: The input\")"
   ]
  },
  {
   "cell_type": "code",
   "execution_count": null,
   "metadata": {
    "collapsed": true
   },
   "outputs": [],
   "source": [
    "# random.random()"
   ]
  },
  {
   "cell_type": "code",
   "execution_count": null,
   "metadata": {
    "collapsed": true
   },
   "outputs": [],
   "source": [
    "# sizeHW = 32\n",
    "# Channel = 3\n",
    "# outName = 'layer2_vz_28-4590-int-cifarForm_train_lmdb'"
   ]
  },
  {
   "cell_type": "code",
   "execution_count": 11,
   "metadata": {
    "collapsed": false
   },
   "outputs": [
    {
     "name": "stdout",
     "output_type": "stream",
     "text": [
      "layer2_vz_256-4590-float-cifarForm_train_lmdb\n"
     ]
    }
   ],
   "source": [
    "# sizeHW = 64\n",
    "# Channel = 3\n",
    "data_float = True#False\n",
    "image_type = 0# 0 cifar; 1 mnists\n",
    "if image_type == 0: #cifar\n",
    "    sizeHW = 256\n",
    "    Channel = 3\n",
    "    if data_float :\n",
    "        outName = \"layer2_vz_\" + str(sizeHW) + \"-4590-float-cifarForm_train_lmdb\"\n",
    "#         outName = 'layer2_vz_28-4590-float-cifarForm_train_lmdb'\n",
    "    if not data_float:\n",
    "        outName = \"layer2_vz_\" + str(sizeHW) + \"-4590-int-cifarForm_train_lmdb\"\n",
    "#         outName = 'layer2_vz_28-4590-int-cifarForm_train_lmdb'\n",
    "if image_type == 1: #mnist\n",
    "    sizeHW = 28\n",
    "    Channel = 1\n",
    "    if data_float :\n",
    "        outName = \"layer2_vz_\" + str(sizeHW) + \"-4590-float-mnistForm_train_lmdb\"\n",
    "#         outName = 'layer2_vz_28-4590-float-mnistForm_train_lmdb'\n",
    "    if not data_float:\n",
    "        outName = \"layer2_vz_\" + str(sizeHW) + \"-4590-int-mnistForm_train_lmdb\"\n",
    "#         outName = 'layer2_vz_28-4590-int-mnistForm_train_lmdb'\n",
    "\n",
    "print(outName)    "
   ]
  },
  {
   "cell_type": "code",
   "execution_count": 12,
   "metadata": {
    "code_folding": [],
    "collapsed": true
   },
   "outputs": [],
   "source": [
    "def get_this_pic(datapath, index, Channel, data_float):\n",
    "    \n",
    "    name = datapath + \"/\" + str(index) + \".png\"\n",
    "    if data_float:\n",
    "        if Channel == 1:\n",
    "            target = Image.open(name).convert(\"L\").resize( (sizeHW, sizeHW), Image.BICUBIC )\n",
    "            target = transforms.ToTensor()(target)\n",
    "            return transforms.Normalize((0.5, 0.5, 0.5), (0.5, 0.5, 0.5))(target)\n",
    "    #          return np.array(target)\n",
    "        elif Channel == 3:\n",
    "            target = Image.open(name).convert(\"RGB\").resize( (sizeHW, sizeHW), Image.BICUBIC )\n",
    "            target = transforms.ToTensor()(target)\n",
    "            return transforms.Normalize((0.5, 0.5, 0.5), (0.5, 0.5, 0.5))(target)\n",
    "#             return np.array(target).transpose(2,0,1)\n",
    "    if not data_float: ## int\n",
    "        if Channel == 1:\n",
    "            target = Image.open(name).convert(\"L\").resize( (sizeHW, sizeHW), Image.BICUBIC )\n",
    "#             target = transforms.ToTensor()(target)\n",
    "#             return transforms.Normalize((0.5, 0.5, 0.5), (0.5, 0.5, 0.5))(target)\n",
    "            return np.array(target)\n",
    "        elif Channel == 3:\n",
    "            target = Image.open(name).convert(\"RGB\").resize( (sizeHW, sizeHW), Image.BICUBIC )\n",
    "    #     target = transforms.ToTensor()(target).int()\n",
    "    #     return transforms.Normalize((0.5, 0.5, 0.5), (0.5, 0.5, 0.5))(target)\n",
    "            return np.array(target).transpose(2,0,1)"
   ]
  },
  {
   "cell_type": "code",
   "execution_count": 13,
   "metadata": {
    "collapsed": true
   },
   "outputs": [],
   "source": [
    "## datapath\n",
    "# datapath = \"/media/wywdisk/VSPdata/data/layer4/vz_split\"\n",
    "# datapath = \"/media/wywdisk/VSPdata/data/layer3/vz_split\"\n",
    "datapath = \"/media/wywdisk/VSPdata/data/layer2_1-90_rightPML/vz_split\"\n",
    "\n",
    "# datapath = \"/media/wywdisk/VSPdata/data/layer4/div_split\"\n",
    "# datapath = \"/media/wywdisk/VSPdata/data/layer3/div_split\"\n",
    "# datapath = \"/media/wywdisk/VSPdata/data/layer2_1-90_rightPML/div_split\"\n",
    "\n",
    "# datapath = \"/media/wywdisk/VSPdata/data/layer4/paired_pic\"\n",
    "# datapath = \"/media/wywdisk/VSPdata/data/layer3/tpaired_pic\"\n",
    "# datapath = \"/media/wywdisk/VSPdata/data/layer2_1-90_rightPML/paired_pic\"\n",
    "# datapath = \"/home/wyw/data/picData/all_20190122\"\n"
   ]
  },
  {
   "cell_type": "code",
   "execution_count": 14,
   "metadata": {
    "code_folding": [
     0
    ],
    "collapsed": false
   },
   "outputs": [
    {
     "name": "stdout",
     "output_type": "stream",
     "text": [
      "4590\n"
     ]
    }
   ],
   "source": [
    "## count the number of data\n",
    "datapath_list = os.listdir(datapath)\n",
    "datapath_list.sort()\n",
    "indexNum = len(datapath_list)\n",
    "print(indexNum)"
   ]
  },
  {
   "cell_type": "code",
   "execution_count": 15,
   "metadata": {
    "collapsed": true
   },
   "outputs": [],
   "source": [
    "N = 4590 # indexNum"
   ]
  },
  {
   "cell_type": "code",
   "execution_count": 16,
   "metadata": {
    "collapsed": false
   },
   "outputs": [
    {
     "name": "stdout",
     "output_type": "stream",
     "text": [
      "21658337280\n"
     ]
    }
   ],
   "source": [
    "# X = np.zeros((N, 1, 256, 256), dtype=np.float64)\n",
    "# y = 0.4 * np.ones(N, dtype=np.float32)\n",
    "y = 0.4 * np.ones(N, dtype=np.int64)\n",
    "\n",
    "map_size = N * sizeHW*sizeHW*Channel*8 *3 #X.nbytes * 3\n",
    "print(map_size)"
   ]
  },
  {
   "cell_type": "code",
   "execution_count": 17,
   "metadata": {
    "collapsed": true
   },
   "outputs": [],
   "source": [
    "env = lmdb.open(outName, map_size=map_size)"
   ]
  },
  {
   "cell_type": "code",
   "execution_count": 18,
   "metadata": {
    "collapsed": true
   },
   "outputs": [],
   "source": [
    "with env.begin(write=True) as txn:\n",
    "    # txn is a Transaction object\n",
    "    for i in range(N):\n",
    "        ## readin data to Xi\n",
    "        if data_float: # tensor\n",
    "            if Channel == 3:\n",
    "                Xi = get_this_pic(datapath, i+1, Channel, data_float)\n",
    "                datum = caffe.proto.caffe_pb2.Datum()\n",
    "                datum.channels = Channel#Xi.size()[0]# X.shape[1]\n",
    "                datum.height = Xi.shape[1] #Xi.size()[1]#Xi.size[0] #X.shape[2]\n",
    "                datum.width = Xi.shape[2] #Xi.size()[2]#Xi.size[1] #X.shape[3]\n",
    "#                 datum.data = Xi.tobytes()#Xi.numpy().tobytes() #X[i].tobytes()  # or .tostring() if numpy < 1.9\n",
    "                datum.float_data.extend(Xi.numpy().astype(float).flat)\n",
    "                datum.label = int(y[i])\n",
    "                str_id = '{:08}'.format(i)\n",
    "\n",
    "                # The encode is only essential in Python 3\n",
    "                txn.put(str_id.encode('ascii'), datum.SerializeToString())\n",
    "            if Channel == 1:\n",
    "                Xi = get_this_pic(datapath, i+1, Channel, data_float)\n",
    "                datum = caffe.proto.caffe_pb2.Datum()\n",
    "                datum.channels = Channel#Xi.size()[0]# X.shape[1]\n",
    "                datum.height = Xi.size()[1]#Xi.size[0] #X.shape[2]\n",
    "                datum.width = Xi.size()[2]#Xi.size[1] #X.shape[3]\n",
    "    #             datum.float_data.extend = Xi.numpy() .tobytes() #X[i].tobytes()  # or .tostring() if numpy < 1.9\n",
    "                datum.float_data.extend(Xi.numpy().astype(float).flat)\n",
    "                datum.label = int(y[i])\n",
    "                str_id = '{:08}'.format(i)\n",
    "\n",
    "                # The encode is only essential in Python 3\n",
    "                txn.put(str_id.encode('ascii'), datum.SerializeToString())\n",
    "                \n",
    "        if not data_float:\n",
    "            if Channel == 3:\n",
    "                Xi = get_this_pic(datapath, i+1, Channel, data_float)\n",
    "                datum = caffe.proto.caffe_pb2.Datum()\n",
    "                datum.channels = Channel#Xi.size()[0]# X.shape[1]\n",
    "                datum.height = Xi.shape[1] #Xi.size()[1]#Xi.size[0] #X.shape[2]\n",
    "                datum.width = Xi.shape[2] #Xi.size()[2]#Xi.size[1] #X.shape[3]\n",
    "                datum.data = Xi.tobytes()#Xi.numpy().tobytes() #X[i].tobytes()  # or .tostring() if numpy < 1.9\n",
    "                datum.label = int(y[i])\n",
    "                str_id = '{:08}'.format(i)\n",
    "\n",
    "                # The encode is only essential in Python 3\n",
    "                txn.put(str_id.encode('ascii'), datum.SerializeToString())\n",
    "            if Channel == 1:\n",
    "                Xi = get_this_pic(datapath, i+1, Channel, data_float)\n",
    "                datum = caffe.proto.caffe_pb2.Datum()\n",
    "                datum.channels = Channel#Xi.size()[0]# X.shape[1]\n",
    "                datum.height = Xi.size()[1]#Xi.size[0] #X.shape[2]\n",
    "                datum.width = Xi.size()[2]#Xi.size[1] #X.shape[3]\n",
    "                datum.data = Xi.numpy().tobytes() #X[i].tobytes()  # or .tostring() if numpy < 1.9\n",
    "#                 datum.float_data.extend(Xi.numpy().astype(float).flat)\n",
    "                datum.label = int(y[i])\n",
    "                str_id = '{:08}'.format(i)\n",
    "\n",
    "                # The encode is only essential in Python 3\n",
    "                txn.put(str_id.encode('ascii'), datum.SerializeToString())\n",
    "        "
   ]
  },
  {
   "cell_type": "code",
   "execution_count": null,
   "metadata": {
    "collapsed": true
   },
   "outputs": [],
   "source": []
  },
  {
   "cell_type": "code",
   "execution_count": null,
   "metadata": {
    "collapsed": true
   },
   "outputs": [],
   "source": [
    "env = lmdb.open(outName, readonly=True)\n",
    "# with env.begin() as txn:\n",
    "#     raw_datum = txn.get(b'00000000')\n",
    "\n",
    "# datum = caffe.proto.caffe_pb2.Datum()\n",
    "# datum.ParseFromString(raw_datum)\n",
    "\n",
    "# flat_x = np.fromstring(datum.data, dtype=np.float64)\n",
    "# x = flat_x.reshape(datum.channels, datum.height, datum.width)\n",
    "# y = datum.label\n",
    "\n",
    "with env.begin() as txn:\n",
    "    cursor = txn.cursor()\n",
    "    for key, value in cursor:\n",
    "#         print(key, value)\n",
    "        print( 'key: ',key)\n",
    "        datum = caffe.proto.caffe_pb2.Datum() #datum类型\n",
    "        datum.ParseFromString(value) #转成datum\n",
    "        flat_x = np.array(datum.float_data).astype(float)\n",
    "#         flat_x = np.fromstring(datum.data, dtype=np.uint8) #转成numpy类型\n",
    "        x = flat_x.reshape(datum.channels, datum.height, datum.width)\n",
    "#         x = flat_x.reshape( datum.height, datum.width,datum.channels)\n",
    "        y = datum.label#图片的label\n",
    "        fig = pyplot.figure()#把两张图片显示出来    \n",
    "        pyplot.imshow(x[0,:,:], cmap='gray')\n",
    "#         pyplot.imshow(x, cmap='gray')\n",
    "        break"
   ]
  },
  {
   "cell_type": "code",
   "execution_count": null,
   "metadata": {
    "collapsed": true
   },
   "outputs": [],
   "source": [
    "x.mean()"
   ]
  },
  {
   "cell_type": "code",
   "execution_count": null,
   "metadata": {
    "collapsed": true
   },
   "outputs": [],
   "source": [
    "# plt.imshow(x)"
   ]
  },
  {
   "cell_type": "code",
   "execution_count": null,
   "metadata": {
    "collapsed": true
   },
   "outputs": [],
   "source": [
    "# with env.begin() as txn:\n",
    "#     cursor = txn.cursor()\n",
    "#     for key, value in cursor:\n",
    "#         print(key, value)"
   ]
  }
 ],
 "metadata": {
  "anaconda-cloud": {},
  "hide_input": false,
  "kernelspec": {
   "display_name": "Python [conda root]",
   "language": "python",
   "name": "conda-root-py"
  },
  "language_info": {
   "codemirror_mode": {
    "name": "ipython",
    "version": 2
   },
   "file_extension": ".py",
   "mimetype": "text/x-python",
   "name": "python",
   "nbconvert_exporter": "python",
   "pygments_lexer": "ipython2",
   "version": "2.7.13"
  },
  "nbTranslate": {
   "displayLangs": [
    "*"
   ],
   "hotkey": "alt-t",
   "langInMainMenu": true,
   "sourceLang": "en",
   "targetLang": "fr",
   "useGoogleTranslate": true
  },
  "toc": {
   "base_numbering": 1,
   "nav_menu": {},
   "number_sections": true,
   "sideBar": true,
   "skip_h1_title": false,
   "title_cell": "Table of Contents",
   "title_sidebar": "Contents",
   "toc_cell": false,
   "toc_position": {},
   "toc_section_display": true,
   "toc_window_display": false
  },
  "varInspector": {
   "cols": {
    "lenName": 16,
    "lenType": 16,
    "lenVar": 40
   },
   "kernels_config": {
    "python": {
     "delete_cmd_postfix": "",
     "delete_cmd_prefix": "del ",
     "library": "var_list.py",
     "varRefreshCmd": "print(var_dic_list())"
    },
    "r": {
     "delete_cmd_postfix": ") ",
     "delete_cmd_prefix": "rm(",
     "library": "var_list.r",
     "varRefreshCmd": "cat(var_dic_list()) "
    }
   },
   "types_to_exclude": [
    "module",
    "function",
    "builtin_function_or_method",
    "instance",
    "_Feature"
   ],
   "window_display": false
  }
 },
 "nbformat": 4,
 "nbformat_minor": 2
}
